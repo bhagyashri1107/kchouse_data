{
 "cells": [
  {
   "cell_type": "code",
   "execution_count": 29,
   "id": "7809f2dd",
   "metadata": {},
   "outputs": [],
   "source": [
    "import numpy as np\n",
    "import pickle as pkl\n",
    "import config1"
   ]
  },
  {
   "cell_type": "code",
   "execution_count": 30,
   "id": "0fd47c39",
   "metadata": {},
   "outputs": [],
   "source": [
    "with open(config1.model_path,'rb') as f:\n",
    "    model = pkl.load(f)"
   ]
  },
  {
   "cell_type": "code",
   "execution_count": 31,
   "id": "d34d99e9",
   "metadata": {},
   "outputs": [],
   "source": [
    "date = 3000\n",
    "bedrooms = 3.0000\n",
    "bathrooms = 1.0000\n",
    "sqft_living = 1180.0000\n",
    "sqft_lot = 5650.0000\n",
    "floors = 1.0000\n",
    "waterfront = 0.0000\n",
    "view = 0.0000\n",
    "condition = 3.0000\n",
    "grade = 7.0000\n",
    "sqft_above = 1500.0000\n",
    "sqft_basement = 0.0000\n",
    "yr_built = 1955.0000\n",
    "yr_renovated = 0.0000\n",
    "zipcode = 50000.0000\n",
    "lat = 47.5112\n",
    "long = -122.2570\n",
    "sqft_living15 = 1340.0000\n",
    "sqft_lot15 = 5650.0000\n",
    "\n",
    "test_array = np.array([ date , bedrooms,bathrooms,sqft_living,sqft_lot,floors,waterfront,view,condition,grade, \n",
    "                       sqft_above,sqft_basement,yr_built,yr_renovated,zipcode,lat,long,sqft_living15,\n",
    "                       sqft_lot15] , ndmin = 2)\n",
    "\n"
   ]
  },
  {
   "cell_type": "code",
   "execution_count": 32,
   "id": "9575efde",
   "metadata": {},
   "outputs": [
    {
     "name": "stderr",
     "output_type": "stream",
     "text": [
      "D:\\anaconda\\lib\\site-packages\\sklearn\\base.py:409: UserWarning: X does not have valid feature names, but LinearRegression was fitted with feature names\n",
      "  warnings.warn(\n"
     ]
    },
    {
     "data": {
      "text/plain": [
       "21777490.453193206"
      ]
     },
     "execution_count": 32,
     "metadata": {},
     "output_type": "execute_result"
    }
   ],
   "source": [
    "price = model.predict(test_array)[0]\n",
    "price"
   ]
  },
  {
   "cell_type": "code",
   "execution_count": 33,
   "id": "d73681cd",
   "metadata": {},
   "outputs": [],
   "source": [
    "test_array = np.zeros(model.n_features_in_)"
   ]
  },
  {
   "cell_type": "code",
   "execution_count": null,
   "id": "07182182",
   "metadata": {},
   "outputs": [],
   "source": []
  },
  {
   "cell_type": "code",
   "execution_count": null,
   "id": "79e0a37e",
   "metadata": {},
   "outputs": [],
   "source": []
  }
 ],
 "metadata": {
  "kernelspec": {
   "display_name": "Python 3 (ipykernel)",
   "language": "python",
   "name": "python3"
  },
  "language_info": {
   "codemirror_mode": {
    "name": "ipython",
    "version": 3
   },
   "file_extension": ".py",
   "mimetype": "text/x-python",
   "name": "python",
   "nbconvert_exporter": "python",
   "pygments_lexer": "ipython3",
   "version": "3.9.7"
  }
 },
 "nbformat": 4,
 "nbformat_minor": 5
}
